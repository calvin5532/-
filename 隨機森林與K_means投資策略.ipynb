{
  "cells": [
    {
      "cell_type": "markdown",
      "metadata": {
        "id": "CIMxvjDEJLdJ"
      },
      "source": [
        "### **KNN**"
      ]
    },
    {
      "cell_type": "code",
      "execution_count": null,
      "metadata": {
        "id": "WiUWoGlUKQqS"
      },
      "outputs": [],
      "source": [
        "import math\n",
        "\n",
        "from sklearn.neighbors import KNeighborsClassifier\n",
        "import matplotlib.pyplot as plt\n",
        "import pandas as pd\n",
        "\n",
        "\n",
        "stocks_data = pd.read_excel(f'/content/drive/MyDrive/Colab Notebooks/top200.xls')\n",
        "stocks_data = stocks_data.drop(columns=['證券代碼'])\n",
        "strategy_money=[]\n",
        "#Data Years\n",
        "for k in range(12):\n",
        "    start_money = 200*10000\n",
        "    current_stock = []\n",
        "    for i in range(200):\n",
        "        current_stock.append(0)\n",
        "    current_money = start_money\n",
        "    data_years = stocks_data['年月'].unique()\n",
        "    train_years = k+1\n",
        "    train_data = stocks_data[stocks_data['年月'].isin(data_years[:train_years])]\n",
        "    train_data_label = train_data['ReturnMean_year_Label']\n",
        "    train_data = train_data.drop(columns=['簡稱', '年月', 'Return', 'ReturnMean_year_Label'])\n",
        "\n",
        "    test_data = stocks_data[stocks_data['年月'].isin(data_years[train_years:])]\n",
        "    test_data_label = test_data['ReturnMean_year_Label']\n",
        "    test_data = test_data.drop(columns=['簡稱', '年月', 'Return', 'ReturnMean_year_Label'])\n",
        "    #Data Min-Max Normalization\n",
        "    for col in stocks_data.columns[2:-2]:\n",
        "        stocks_data[col] = (stocks_data[col]-stocks_data[col].min())/(stocks_data[col].max()-stocks_data[col].min())\n",
        "    #計算相關係數，取絕對值後排序\n",
        "    stocks_data.corr()['Return'].abs().sort_values(ascending=False)\n",
        "    knn = KNeighborsClassifier()\n",
        "    knn.fit(train_data,train_data_label)\n",
        "    predict_data = knn.predict(test_data)\n",
        "    for pre_times in range(13-train_years):\n",
        "        tmp = 0\n",
        "        tmp_stock = []\n",
        "        for i in range(200):\n",
        "            if predict_data[pre_times*200+i] == -1:\n",
        "                current_money += stocks_data[\"收盤價(元)_年\"][(train_years+pre_times)*200+i]*current_stock[i]\n",
        "                current_stock[i] = 0\n",
        "                # sell\n",
        "            if predict_data[pre_times*200+i] == 1:\n",
        "                tmp += 1\n",
        "                tmp_stock.append(i)\n",
        "                # 紀錄要買哪隻和每隻要分多少錢下去\n",
        "        if tmp:\n",
        "            per_money = current_money / tmp\n",
        "            for j in tmp_stock:\n",
        "                if stocks_data[\"收盤價(元)_年\"][(train_years+pre_times)*200+j] != 0:\n",
        "                    current_stock[j] += per_money / stocks_data[\"收盤價(元)_年\"][(train_years+pre_times)*200+j]\n",
        "                # 買入\n",
        "            current_money = 0\n",
        "\n",
        "    #折現\n",
        "    for i in range(len(current_stock)):\n",
        "        current_money += current_stock[i]*stocks_data[\"收盤價(元)_年\"][12*200+i]\n",
        "    strategy_money.append(math.floor(current_money))\n",
        "print(strategy_money)\n",
        "# 報酬率\n",
        "ROI = []\n",
        "ROI_year = []\n",
        "for i in range(len(strategy_money)-1):\n",
        "    ROI.append((strategy_money[i]-start_money)/start_money)\n",
        "# 年化報酬率\n",
        "for i in range(len(ROI)):\n",
        "    ROI_year.append(((ROI[i]+1)**(1/(12-i))-1)*100)\n",
        "print(ROI)\n",
        "plt.figure()\n",
        "plt.xlabel(\"train_time(year)\")\n",
        "plt.ylabel(\"test data with strategy ROI(%)\")\n",
        "plt.plot(ROI)\n",
        "print(ROI_year)\n",
        "plt.figure()\n",
        "plt.plot(ROI_year)\n",
        "plt.xlabel(\"train_time(year)\")\n",
        "plt.ylabel(\"test data with strategy irr(%)\")\n",
        "plt.show()"
      ]
    },
    {
      "cell_type": "markdown",
      "metadata": {
        "id": "aeeFOXcpKTV0"
      },
      "source": [
        "### **隨機森林**"
      ]
    },
    {
      "cell_type": "code",
      "execution_count": null,
      "metadata": {
        "id": "XvoPw0SSuKSq"
      },
      "outputs": [],
      "source": [
        "import datetime\n",
        "import pandas as pd\n",
        "from google.colab import drive\n",
        "drive.mount('/content/drive')"
      ]
    },
    {
      "cell_type": "code",
      "execution_count": null,
      "metadata": {
        "id": "knh9FaSvuWUl"
      },
      "outputs": [],
      "source": [
        "stocks_data = pd.read_excel(f'/content/drive/MyDrive/Colab Notebooks/top200.xls')\n",
        "stocks_data = stocks_data.drop(columns=['證券代碼'])\n",
        "stocks_data"
      ]
    },
    {
      "cell_type": "code",
      "execution_count": null,
      "metadata": {
        "id": "YLlrIIXuI44_"
      },
      "outputs": [],
      "source": [
        "import math\n",
        "import matplotlib.pyplot as plt\n",
        "import pandas as pd\n",
        "from sklearn.ensemble import RandomForestClassifier\n",
        "\n",
        "stocks_data = pd.read_excel(f'/content/drive/MyDrive/Colab Notebooks/top200.xls')\n",
        "stocks_data = stocks_data.drop(columns=['證券代碼'])\n",
        "strategy_money=[]\n",
        "for k in range(12):\n",
        "    start_money = 200*10000\n",
        "    current_stock = []\n",
        "    for i in range(200):\n",
        "        current_stock.append(0)\n",
        "    current_money = start_money\n",
        "    data_years = stocks_data['年月'].unique()\n",
        "    train_years = k+1\n",
        "    train_data = stocks_data[stocks_data['年月'].isin(data_years[:train_years])]\n",
        "    train_data_label = train_data['ReturnMean_year_Label']\n",
        "    train_data = train_data.drop(columns=['簡稱', '年月', 'Return', 'ReturnMean_year_Label'])\n",
        "\n",
        "    test_data = stocks_data[stocks_data['年月'].isin(data_years[train_years:])]\n",
        "    test_data_label = test_data['ReturnMean_year_Label']\n",
        "    test_data = test_data.drop(columns=['簡稱', '年月', 'Return', 'ReturnMean_year_Label'])\n",
        "    #Data Min-Max Normalization\n",
        "    for col in stocks_data.columns[2:-2]:\n",
        "        stocks_data[col] = (stocks_data[col]-stocks_data[col].min())/(stocks_data[col].max()-stocks_data[col].min())\n",
        "    #計算相關係數，取絕對值後排序\n",
        "    stocks_data.corr()['Return'].abs().sort_values(ascending=False)\n",
        "    forest = RandomForestClassifier(criterion='gini', n_estimators=10, random_state=3, n_jobs=2)\n",
        "    forest.fit(train_data, train_data_label)\n",
        "\n",
        "    label_predicted = forest.predict(test_data)\n",
        "    for pre_times in range(13-train_years):\n",
        "        tmp = 0\n",
        "        tmp_stock = []\n",
        "        for i in range(200):\n",
        "            if label_predicted[pre_times*200+i] == -1:\n",
        "                current_money += stocks_data[\"收盤價(元)_年\"][(train_years+pre_times)*200+i]*current_stock[i]\n",
        "                current_stock[i] = 0\n",
        "                # sell\n",
        "            if label_predicted[pre_times*200+i] == 1:\n",
        "                tmp += 1\n",
        "                tmp_stock.append(i)\n",
        "                # 紀錄要買哪隻和每隻要分多少錢下去\n",
        "        if tmp:\n",
        "            per_money = current_money / tmp\n",
        "            for j in tmp_stock:\n",
        "                if stocks_data[\"收盤價(元)_年\"][(train_years+pre_times)*200+j] != 0:\n",
        "                    current_stock[j] += per_money / stocks_data[\"收盤價(元)_年\"][(train_years+pre_times)*200+j]\n",
        "                # 買入\n",
        "            current_money = 0\n",
        "\n",
        "    #折現\n",
        "    for i in range(len(current_stock)):\n",
        "      current_money += current_stock[i]*stocks_data[\"收盤價(元)_年\"][12*200+i]\n",
        "    strategy_money.append(math.floor(current_money))\n",
        "print(strategy_money)\n",
        "\n",
        "# 報酬率\n",
        "ROI = []\n",
        "ROI_year= []\n",
        "for i in range(len(strategy_money)-1):\n",
        "    ROI.append((strategy_money[i]-start_money)/start_money)\n",
        "# 年化報酬率ROI_year = []\n",
        "for i in range(len(ROI)):\n",
        "    ROI_year.append(((ROI[i]+1)**(1/(12-i))-1)*100)\n",
        "print(ROI)\n",
        "plt.figure()\n",
        "plt.xlabel(\"train_time(year)\")\n",
        "plt.ylabel(\"test data with strategy ROI(%)\")\n",
        "plt.plot(ROI)\n",
        "print(ROI_year)\n",
        "plt.figure()\n",
        "plt.plot(ROI_year)\n",
        "plt.xlabel(\"train_time(year)\")\n",
        "plt.ylabel(\"test data with strategy irr(%)\")\n",
        "plt.show()"
      ]
    },
    {
      "cell_type": "code",
      "execution_count": null,
      "metadata": {
        "colab": {
          "background_save": true
        },
        "id": "lY2ziknGujjp",
        "outputId": "74c37b66-329b-4a4a-f5e0-ffca045316f9"
      },
      "outputs": [
        {
          "name": "stdout",
          "output_type": "stream",
          "text": [
            "TV0 accuracy: 0.53125\n",
            "TV1 accuracy: 0.5372727272727272\n",
            "TV2 accuracy: 0.579\n",
            "TV3 accuracy: 0.57\n",
            "TV4 accuracy: 0.604375\n",
            "TV5 accuracy: 0.6142857142857143\n",
            "TV6 accuracy: 0.6241666666666666\n",
            "TV7 accuracy: 0.642\n",
            "TV8 accuracy: 0.66125\n",
            "TV9 accuracy: 0.6666666666666666\n",
            "TV10 accuracy: 0.705\n",
            "TV11 accuracy: 0.925\n"
          ]
        }
      ],
      "source": [
        "for k in range(12):\n",
        "    data_years = stocks_data['年月'].unique()\n",
        "    train_years = k+1\n",
        "    train_data = stocks_data[stocks_data['年月'].isin(data_years[:train_years])]\n",
        "    train_data_label = train_data['ReturnMean_year_Label']\n",
        "    train_data = train_data.drop(columns=['簡稱', '年月', 'Return', 'ReturnMean_year_Label'])\n",
        "\n",
        "    test_data = stocks_data[stocks_data['年月'].isin(data_years[train_years:])]\n",
        "    test_data_label = test_data['ReturnMean_year_Label']\n",
        "    test_data = test_data.drop(columns=['簡稱', '年月', 'Return', 'ReturnMean_year_Label'])\n",
        "    #Data Min-Max Normalization\n",
        "    for col in stocks_data.columns[2:-2]:\n",
        "      stocks_data[col] = (stocks_data[col]-stocks_data[col].min())/(stocks_data[col].max()-stocks_data[col].min())\n",
        "\n",
        "\n",
        "    #計算相關係數，取絕對值後排序\n",
        "    stocks_data.corr()['Return'].abs().sort_values(ascending=False)\n",
        "\n",
        "    from sklearn.ensemble import RandomForestClassifier\n",
        "    forest = RandomForestClassifier(criterion='gini', n_estimators=200, random_state=3, n_jobs=2)\n",
        "    forest.fit(train_data, train_data_label)\n",
        "\n",
        "    # 以test data來檢測預測結果\n",
        "    label_predicted = forest.predict(test_data)\n",
        "\n",
        "    from sklearn.metrics import confusion_matrix\n",
        "\n",
        "    cm = confusion_matrix(test_data_label, label_predicted, labels=[1, -1])\n",
        "    #水平為預測\n",
        "    #垂直為現實\n",
        "    accuracy = (cm[0][0]+cm[1][1])/len(test_data_label)\n",
        "    print(f'TV{k} accuracy: {accuracy}')"
      ]
    },
    {
      "cell_type": "markdown",
      "metadata": {
        "id": "ATUXrBFUJGh6"
      },
      "source": [
        "### **K-means**"
      ]
    },
    {
      "cell_type": "code",
      "execution_count": null,
      "metadata": {
        "colab": {
          "background_save": true
        },
        "id": "h83jBxPXJGy2",
        "outputId": "853844aa-158e-49fd-c505-1a3d41dd4f92"
      },
      "outputs": [
        {
          "data": {
            "image/png": "[encoded data removed]",
            "text/plain": [
              "<Figure size 432x288 with 1 Axes>"
            ]
          },
          "metadata": {},
          "output_type": "display_data"
        },
        {
          "name": "stdout",
          "output_type": "stream",
          "text": [
            "[0.7060195322090309, 0.44266924277896996, 0.3852664919503606, 0.4186668181929504, 0.4196143709106678, 0.2350589253482878, 0.23686899495085015, 0.28637334604254444]\n"
          ]
        }
      ],
      "source": [
        "from sklearn import cluster, datasets, metrics\n",
        "import matplotlib.pyplot as plt\n",
        "silhouette_avgs = []\n",
        "ks = range(2, 10)\n",
        "for k in ks:\n",
        "    kmeans_fit = cluster.KMeans(n_clusters = k).fit(train_data)\n",
        "    cluster_labels = kmeans_fit.labels_\n",
        "    silhouette_avg = metrics.silhouette_score(train_data, cluster_labels)\n",
        "    silhouette_avgs.append(silhouette_avg)\n",
        "\n",
        "# 作圖並印出 k = 2 到 10 的績效\n",
        "plt.bar(ks, silhouette_avgs)\n",
        "plt.show()\n",
        "print(silhouette_avgs)"
      ]
    },
    {
      "cell_type": "code",
      "execution_count": null,
      "metadata": {
        "colab": {
          "base_uri": "https://localhost:8080/",
          "height": 617
        },
        "id": "Q3R7foRVJcOK",
        "outputId": "944326a4-187f-4136-d241-8aabd4ce25fc"
      },
      "outputs": [
        {
          "name": "stdout",
          "output_type": "stream",
          "text": [
            "[26132224, 569787, 26438223, 13804249, 2000000, 2000000, 2000000, 2000000, 2000000, 1782891, 16005493, 2000000]\n",
            "[12.066112, -0.7151065, 12.2191115, 5.9021245, 0.0, 0.0, 0.0, 0.0, 0.0, -0.1085545, 7.0027465]\n",
            "[23.883138114687718, -10.787504980988349, 29.455416576993798, 23.94251654255697, 0.0, 0.0, 0.0, 0.0, 0.0, -3.757935100678267, 182.89126002759434]\n"
          ]
        },
        {
          "data": {
            "image/png": "[encoded data removed]",
            "text/plain": [
              "<Figure size 432x288 with 1 Axes>"
            ]
          },
          "metadata": {},
          "output_type": "display_data"
        },
        {
          "data": {
            "image/png": "[encoded data removed]",
            "text/plain": [
              "<Figure size 432x288 with 1 Axes>"
            ]
          },
          "metadata": {},
          "output_type": "display_data"
        }
      ],
      "source": [
        "import math\n",
        "import matplotlib.pyplot as plt\n",
        "import pandas as pd\n",
        "from sklearn.ensemble import RandomForestClassifier\n",
        "\n",
        "stocks_data = pd.read_excel(f'/content/drive/MyDrive/Colab Notebooks/top200.xls')\n",
        "stocks_data = stocks_data.drop(columns=['證券代碼'])\n",
        "strategy_money=[]\n",
        "for k in range(12):\n",
        "    start_money = 200*10000\n",
        "    current_stock = []\n",
        "    for i in range(200):\n",
        "        current_stock.append(0)\n",
        "    current_money = start_money\n",
        "    data_years = stocks_data['年月'].unique()\n",
        "    train_years = k+1\n",
        "    train_data = stocks_data[stocks_data['年月'].isin(data_years[:train_years])]\n",
        "    train_data_label = train_data['ReturnMean_year_Label']\n",
        "    train_data = train_data.drop(columns=['簡稱', '年月', 'Return', 'ReturnMean_year_Label'])\n",
        "\n",
        "    test_data = stocks_data[stocks_data['年月'].isin(data_years[train_years:])]\n",
        "    test_data_label = test_data['ReturnMean_year_Label']\n",
        "    test_data = test_data.drop(columns=['簡稱', '年月', 'Return', 'ReturnMean_year_Label'])\n",
        "    #Data Min-Max Normalization\n",
        "    for col in stocks_data.columns[2:-2]:\n",
        "        stocks_data[col] = (stocks_data[col]-stocks_data[col].min())/(stocks_data[col].max()-stocks_data[col].min())\n",
        "    #計算相關係數，取絕對值後排序\n",
        "    stocks_data.corr()['Return'].abs().sort_values(ascending=False)\n",
        "    kmeans_fit = cluster.KMeans(n_clusters = 2).fit(train_data, train_data_label)\n",
        "    cluster_labels = kmeans_fit.labels_\n",
        "    label_predicted = kmeans_fit.predict(test_data)\n",
        "    for pre_times in range(13-train_years):\n",
        "        tmp = 0\n",
        "        tmp_stock = []\n",
        "        for i in range(200):\n",
        "            if label_predicted[pre_times*200+i] == -1:\n",
        "                current_money += stocks_data[\"收盤價(元)_年\"][(train_years+pre_times)*200+i]*current_stock[i]\n",
        "                current_stock[i] = 0\n",
        "                # sell\n",
        "            if label_predicted[pre_times*200+i] == 1:\n",
        "                tmp += 1\n",
        "                tmp_stock.append(i)\n",
        "                # 紀錄要買哪隻和每隻要分多少錢下去\n",
        "        if tmp:\n",
        "            per_money = current_money / tmp\n",
        "            for j in tmp_stock:\n",
        "                if stocks_data[\"收盤價(元)_年\"][(train_years+pre_times)*200+j] != 0:\n",
        "                    current_stock[j] += per_money / stocks_data[\"收盤價(元)_年\"][(train_years+pre_times)*200+j]\n",
        "                # 買入\n",
        "            current_money = 0\n",
        "\n",
        "    #折現\n",
        "    for i in range(len(current_stock)):\n",
        "      current_money += current_stock[i]*stocks_data[\"收盤價(元)_年\"][12*200+i]\n",
        "    strategy_money.append(math.floor(current_money))\n",
        "print(strategy_money)\n",
        "\n",
        "# 報酬率\n",
        "ROI = []\n",
        "ROI_year= []\n",
        "for i in range(len(strategy_money)-1):\n",
        "    ROI.append((strategy_money[i]-start_money)/start_money)\n",
        "# 年化報酬率ROI_year = []\n",
        "for i in range(len(ROI)):\n",
        "    ROI_year.append(((ROI[i]+1)**(1/(12-i))-1)*100)\n",
        "print(ROI)\n",
        "plt.figure()\n",
        "plt.xlabel(\"train_time(year)\")\n",
        "plt.ylabel(\"test data with strategy ROI(%)\")\n",
        "plt.plot(ROI)\n",
        "print(ROI_year)\n",
        "plt.figure()\n",
        "plt.plot(ROI_year)\n",
        "plt.xlabel(\"train_time(year)\")\n",
        "plt.ylabel(\"test data with strategy irr(%)\")\n",
        "plt.show()"
      ]
    },
    {
      "cell_type": "code",
      "execution_count": null,
      "metadata": {
        "colab": {
          "base_uri": "https://localhost:8080/"
        },
        "id": "8IlQVcdkuyFK",
        "outputId": "323f4cf5-3e87-4cd0-8ed0-0417b1ba9eb0"
      },
      "outputs": [
        {
          "output_type": "stream",
          "name": "stdout",
          "text": [
            "TV0: 0.7512299071647871\n",
            "TV1: 0.8569919168113168\n",
            "TV2: 0.8206367084060194\n",
            "TV3: 0.8278598226066989\n",
            "TV4: 0.8421101554676993\n",
            "TV5: 0.8408101579139181\n",
            "TV6: 0.8486341343928099\n",
            "TV7: 0.8490459016347396\n",
            "TV8: 0.8408348794579159\n",
            "TV9: 0.5601812860907471\n",
            "TV10: 0.7159468733214165\n",
            "TV11: 0.7074484393780321\n"
          ]
        }
      ],
      "source": [
        "for k in range(12):\n",
        "    data_years = stocks_data['年月'].unique()\n",
        "    train_years = k+1\n",
        "    train_data = stocks_data[stocks_data['年月'].isin(data_years[:train_years])]\n",
        "    train_data_label = train_data['ReturnMean_year_Label']\n",
        "    train_data = train_data.drop(columns=['簡稱', '年月', 'Return', 'ReturnMean_year_Label'])\n",
        "\n",
        "    test_data = stocks_data[stocks_data['年月'].isin(data_years[train_years:])]\n",
        "    test_data_label = test_data['ReturnMean_year_Label']\n",
        "    test_data = test_data.drop(columns=['簡稱', '年月', 'Return', 'ReturnMean_year_Label'])\n",
        "    #Data Min-Max Normalization\n",
        "    for col in stocks_data.columns[2:-2]:\n",
        "      stocks_data[col] = (stocks_data[col]-stocks_data[col].min())/(stocks_data[col].max()-stocks_data[col].min())\n",
        "\n",
        "\n",
        "    #計算相關係數，取絕對值後排序\n",
        "    stocks_data.corr()['Return'].abs().sort_values(ascending=False)\n",
        "\n",
        "    from sklearn import cluster, datasets, metrics\n",
        "    kmeans_fit = cluster.KMeans(n_clusters = 2).fit(train_data, train_data_label)\n",
        "    cluster_labels = kmeans_fit.labels_\n",
        "    label_predicted = kmeans_fit.predict(test_data)\n",
        "\n",
        "    # 以test data來檢測預測結果\n",
        "    label_predicted = kmeans_fit.predict(test_data)\n",
        "\n",
        "    silhouette_avg = metrics.silhouette_score(train_data, cluster_labels)\n",
        "    print(f'TV{k}: {silhouette_avg}')\n"
      ]
    }
  ],
  "metadata": {
    "colab": {
      "collapsed_sections": [],
      "name": "KNN、隨機森林與K-means投資策略.ipynb",
      "provenance": []
    },
    "kernelspec": {
      "display_name": "Python 3",
      "name": "python3"
    },
    "language_info": {
      "name": "python"
    }
  },
  "nbformat": 4,
  "nbformat_minor": 0
}